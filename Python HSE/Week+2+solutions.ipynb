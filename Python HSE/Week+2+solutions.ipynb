{
 "cells": [
  {
   "cell_type": "markdown",
   "metadata": {},
   "source": [
    "## Assignment 1"
   ]
  },
  {
   "cell_type": "code",
   "execution_count": 1,
   "metadata": {},
   "outputs": [
    {
     "name": "stdout",
     "output_type": "stream",
     "text": [
      "1\n",
      "3\n",
      "3\n"
     ]
    }
   ],
   "source": [
    "# max of a and b\n",
    "a = int(input())\n",
    "b = int(input())\n",
    "if a >= b:\n",
    "    print(a)\n",
    "else:\n",
    "    print(b)\n",
    "    "
   ]
  },
  {
   "cell_type": "markdown",
   "metadata": {},
   "source": [
    "## Assignment 2"
   ]
  },
  {
   "cell_type": "code",
   "execution_count": 2,
   "metadata": {},
   "outputs": [
    {
     "name": "stdout",
     "output_type": "stream",
     "text": [
      "1\n",
      "1\n",
      "0\n"
     ]
    }
   ],
   "source": [
    "# compare two numbers\n",
    "a = int(input())\n",
    "b = int(input())\n",
    "if a > b:\n",
    "    print(1)\n",
    "elif a < b:\n",
    "    print(2)\n",
    "else:\n",
    "    print(0)\n",
    "    "
   ]
  },
  {
   "cell_type": "markdown",
   "metadata": {},
   "source": [
    "## Assignment 3"
   ]
  },
  {
   "cell_type": "code",
   "execution_count": 8,
   "metadata": {},
   "outputs": [
    {
     "name": "stdout",
     "output_type": "stream",
     "text": [
      "1\n",
      "2\n",
      "2\n",
      "2\n"
     ]
    }
   ],
   "source": [
    "# max of a, b, c\n",
    "a = int(input())\n",
    "b = int(input())\n",
    "c = int(input())\n",
    "\n",
    "if a >= b and a >= c:\n",
    "    print(a)\n",
    "elif b >= a and b >= c:\n",
    "    print(b)\n",
    "else:\n",
    "    print(c)\n",
    "    "
   ]
  },
  {
   "cell_type": "markdown",
   "metadata": {},
   "source": [
    "## Assignment 4"
   ]
  },
  {
   "cell_type": "code",
   "execution_count": null,
   "metadata": {},
   "outputs": [],
   "source": [
    "# if leap year\n",
    "year = int(input())\n",
    "if year % 4 == 0 and not(year % 100 == 0) or year % 400 == 0:\n",
    "    print(\"YES\")\n",
    "else:\n",
    "    print(\"NO\")\n",
    "    "
   ]
  },
  {
   "cell_type": "markdown",
   "metadata": {},
   "source": [
    "## Assignment 5"
   ]
  },
  {
   "cell_type": "code",
   "execution_count": 11,
   "metadata": {},
   "outputs": [
    {
     "name": "stdout",
     "output_type": "stream",
     "text": [
      "22\n",
      "22 korovy\n"
     ]
    }
   ],
   "source": [
    "# print word korova respecting russian grammar\n",
    "cow = int(input())\n",
    "last = ''\n",
    "if not(10 <= cow <= 20):\n",
    "    if cow % 10 == 1:\n",
    "        last = 'a'\n",
    "    elif 2 <= cow % 10 <= 4:\n",
    "        last = 'y'\n",
    "print(cow, 'korov' + last)\n"
   ]
  },
  {
   "cell_type": "markdown",
   "metadata": {},
   "source": [
    "## Assignment 6"
   ]
  },
  {
   "cell_type": "code",
   "execution_count": 18,
   "metadata": {},
   "outputs": [
    {
     "name": "stdout",
     "output_type": "stream",
     "text": [
      "1\n",
      "3\n",
      "2\n",
      "3 2 1\n"
     ]
    }
   ],
   "source": [
    "# sort 3 numbers\n",
    "a = int(input())\n",
    "b = int(input())\n",
    "c = int(input())\n",
    "\n",
    "if a > b:\n",
    "    a, b = b, a\n",
    "if b > c:\n",
    "    b, c = c, b\n",
    "if a > b:\n",
    "    a, b = b, a\n",
    "    \n",
    "print(a, b, c)\n"
   ]
  },
  {
   "cell_type": "markdown",
   "metadata": {},
   "source": [
    "## Assignment 7"
   ]
  },
  {
   "cell_type": "code",
   "execution_count": 26,
   "metadata": {},
   "outputs": [
    {
     "name": "stdout",
     "output_type": "stream",
     "text": [
      "1\n",
      "1\n",
      "1\n",
      "3\n"
     ]
    }
   ],
   "source": [
    "# how many equal numbers\n",
    "a = int(input())\n",
    "b = int(input())\n",
    "c = int(input())\n",
    "\n",
    "result = (a - b == 0) + (a - c == 0) + (b - c == 0)\n",
    "if result == 1:\n",
    "    print(result + 1)\n",
    "else:\n",
    "    print(result)\n"
   ]
  },
  {
   "cell_type": "markdown",
   "metadata": {},
   "source": [
    "## Assignment 8"
   ]
  },
  {
   "cell_type": "code",
   "execution_count": 28,
   "metadata": {},
   "outputs": [
    {
     "name": "stdout",
     "output_type": "stream",
     "text": [
      "2\n",
      "2\n",
      "2\n",
      "1\n",
      "1\n",
      "NO\n"
     ]
    }
   ],
   "source": [
    "# find d, e that that rectangle d, e in rectangle a, b; b, c or a, c\n",
    "a = int(input())\n",
    "b = int(input())\n",
    "c = int(input())\n",
    "e = int(input())\n",
    "d = int(input())\n",
    "\n",
    "if a > b:\n",
    "    a, b = b, a\n",
    "if b > c:\n",
    "    b, c = c, b\n",
    "if a > b:\n",
    "    a, b = b, a\n",
    "\n",
    "if d >= e:\n",
    "    d, e = e, d\n",
    "if (d >= a) and (e >= b):\n",
    "    print('YES')\n",
    "else:\n",
    "    print('NO')\n"
   ]
  },
  {
   "cell_type": "markdown",
   "metadata": {},
   "source": [
    "## Assignment 9"
   ]
  },
  {
   "cell_type": "code",
   "execution_count": 34,
   "metadata": {},
   "outputs": [
    {
     "name": "stdout",
     "output_type": "stream",
     "text": [
      "1\n",
      "2\n",
      "3\n",
      "3\n",
      "2\n",
      "1\n",
      "Boxes are equal\n"
     ]
    }
   ],
   "source": [
    "# compare boxes\n",
    "a1 = int(input())\n",
    "b1 = int(input())\n",
    "c1 = int(input())\n",
    "a2 = int(input())\n",
    "b2 = int(input())\n",
    "c2 = int(input())\n",
    "\n",
    "if a1 > b1:\n",
    "    a1, b1 = b1, a1\n",
    "if b1 > c1:\n",
    "    b1, c1 = c1, b1\n",
    "if a1 > b1:\n",
    "    a1, b1 = b1, a1\n",
    "\n",
    "if a2 > b2:\n",
    "    a2, b2 = b2, a2\n",
    "if b2 > c2:\n",
    "    b2, c2 = c2, b2\n",
    "if a2 > b2:\n",
    "    a2, b2 = b2, a2\n",
    "    \n",
    "if a1 == a2 and b1 == b2 and c1 == c2:\n",
    "    result = \"Boxes are equal\"\n",
    "elif a1 <= a2 and b1 <= b2 and c1 <= c2:\n",
    "    result = \"The first box is smaller than the second one\"\n",
    "elif a1 >= a2 and b1 >= b2 and c1 >= c2:\n",
    "    result = \"The first box is larger than the second one\"\n",
    "else:\n",
    "    result = \"Boxes are incomparable\"\n",
    "print(result)"
   ]
  },
  {
   "cell_type": "markdown",
   "metadata": {},
   "source": [
    "## Assignment 10"
   ]
  },
  {
   "cell_type": "code",
   "execution_count": 2,
   "metadata": {},
   "outputs": [
    {
     "name": "stdout",
     "output_type": "stream",
     "text": [
      "50\n",
      "1 4 9 16 25 36 49 "
     ]
    }
   ],
   "source": [
    "# squares less or equal n\n",
    "n = int(input())\n",
    "i = 1\n",
    "while i**2 <= n:\n",
    "    print(i**2, end=' ')\n",
    "    i += 1\n",
    "    "
   ]
  },
  {
   "cell_type": "markdown",
   "metadata": {},
   "source": [
    "## Assignment 11"
   ]
  },
  {
   "cell_type": "code",
   "execution_count": 5,
   "metadata": {},
   "outputs": [
    {
     "name": "stdout",
     "output_type": "stream",
     "text": [
      "3\n",
      "3\n"
     ]
    }
   ],
   "source": [
    "# min divisor\n",
    "n = int(input())\n",
    "i = 2\n",
    "while True:\n",
    "    if n % i == 0:\n",
    "        print(i)\n",
    "        break\n",
    "    else:\n",
    "        i += 1\n"
   ]
  },
  {
   "cell_type": "markdown",
   "metadata": {},
   "source": [
    "## Assignment 12"
   ]
  },
  {
   "cell_type": "code",
   "execution_count": 33,
   "metadata": {},
   "outputs": [
    {
     "name": "stdout",
     "output_type": "stream",
     "text": [
      "10\n",
      "20\n",
      "9\n"
     ]
    }
   ],
   "source": [
    "# find k, that sum of k elements of geometric series is less than y\n",
    "x = int(input())\n",
    "y = int(input())\n",
    "k = 1\n",
    "while x < y:\n",
    "    x *= 1.1\n",
    "    k += 1\n",
    "print(k)\n"
   ]
  },
  {
   "cell_type": "markdown",
   "metadata": {},
   "source": [
    "## Assignment 13"
   ]
  },
  {
   "cell_type": "code",
   "execution_count": 34,
   "metadata": {},
   "outputs": [
    {
     "name": "stdout",
     "output_type": "stream",
     "text": [
      "1\n",
      "2\n",
      "3\n",
      "0\n",
      "3\n"
     ]
    }
   ],
   "source": [
    "# find max\n",
    "i = int(input())\n",
    "max_i = i\n",
    "while i != 0:\n",
    "    i = int(input())\n",
    "    if i > max_i and i != 0:\n",
    "        max_i = i\n",
    "print(max_i)\n"
   ]
  },
  {
   "cell_type": "markdown",
   "metadata": {},
   "source": [
    "## Assignment 14"
   ]
  },
  {
   "cell_type": "code",
   "execution_count": 35,
   "metadata": {},
   "outputs": [
    {
     "name": "stdout",
     "output_type": "stream",
     "text": [
      "1\n",
      "1\n"
     ]
    }
   ],
   "source": [
    "# sum of n first squares\n",
    "n = int(input())\n",
    "i = 1\n",
    "sum_n = 0\n",
    "while i <= n:\n",
    "    sum_n += i**2\n",
    "    i += 1\n",
    "print(sum_n)\n"
   ]
  },
  {
   "cell_type": "markdown",
   "metadata": {},
   "source": [
    "## Assignment 15"
   ]
  },
  {
   "cell_type": "code",
   "execution_count": 36,
   "metadata": {},
   "outputs": [
    {
     "name": "stdout",
     "output_type": "stream",
     "text": [
      "1\n",
      "2\n",
      "3\n",
      "0\n",
      "3\n"
     ]
    }
   ],
   "source": [
    "# length of series\n",
    "i = int(input())\n",
    "len_i = 0\n",
    "while i != 0:\n",
    "    len_i += 1\n",
    "    i = int(input())\n",
    "print(len_i)\n"
   ]
  },
  {
   "cell_type": "markdown",
   "metadata": {},
   "source": [
    "## Assignment 16"
   ]
  },
  {
   "cell_type": "code",
   "execution_count": 37,
   "metadata": {},
   "outputs": [
    {
     "name": "stdout",
     "output_type": "stream",
     "text": [
      "1\n",
      "2\n",
      "3\n",
      "0\n",
      "6\n"
     ]
    }
   ],
   "source": [
    "# sum of series\n",
    "i = int(input())\n",
    "sum_i = 0\n",
    "while i != 0:\n",
    "    sum_i += i\n",
    "    i = int(input())\n",
    "print(sum_i)\n"
   ]
  },
  {
   "cell_type": "markdown",
   "metadata": {},
   "source": [
    "## Assignment 17"
   ]
  },
  {
   "cell_type": "code",
   "execution_count": 38,
   "metadata": {},
   "outputs": [
    {
     "name": "stdout",
     "output_type": "stream",
     "text": [
      "1\n",
      "2\n",
      "3\n",
      "0\n",
      "1\n"
     ]
    }
   ],
   "source": [
    "# number of even elements\n",
    "i = int(input())\n",
    "n_even = 0\n",
    "while i != 0:\n",
    "    if i % 2 == 0:\n",
    "        n_even += 1\n",
    "    i = int(input())\n",
    "print(n_even)\n"
   ]
  },
  {
   "cell_type": "markdown",
   "metadata": {},
   "source": [
    "## Assignment 18"
   ]
  },
  {
   "cell_type": "code",
   "execution_count": 49,
   "metadata": {},
   "outputs": [
    {
     "name": "stdout",
     "output_type": "stream",
     "text": [
      "1\n",
      "3\n",
      "2\n",
      "0\n",
      "2\n"
     ]
    }
   ],
   "source": [
    "# second max\n",
    "i = int(input())\n",
    "max1 = i\n",
    "max2 = 0\n",
    "i = int(input())\n",
    "while i != 0:\n",
    "    if i <= max1 and i > max2:\n",
    "        max2 = i\n",
    "    elif i > max1:\n",
    "        max2 = max1\n",
    "        max1 = i\n",
    "    i = int(input())\n",
    "print(max2)\n"
   ]
  },
  {
   "cell_type": "markdown",
   "metadata": {},
   "source": [
    "## Assignment 19"
   ]
  },
  {
   "cell_type": "code",
   "execution_count": 52,
   "metadata": {},
   "outputs": [
    {
     "name": "stdout",
     "output_type": "stream",
     "text": [
      "1\n",
      "1\n",
      "1\n",
      "0\n",
      "3\n"
     ]
    }
   ],
   "source": [
    "# number of elements equal to max\n",
    "i = int(input())\n",
    "max_i = i\n",
    "n_max = 0\n",
    "while i != 0:\n",
    "    if i == max_i:\n",
    "        n_max += 1\n",
    "    if i > max_i:\n",
    "        max_i = i\n",
    "        n_max = 1\n",
    "    i = int(input())\n",
    "print(n_max)\n"
   ]
  },
  {
   "cell_type": "markdown",
   "metadata": {},
   "source": [
    "## Assignment 20"
   ]
  },
  {
   "cell_type": "code",
   "execution_count": 54,
   "metadata": {},
   "outputs": [
    {
     "name": "stdout",
     "output_type": "stream",
     "text": [
      "1\n",
      "1\n",
      "2\n",
      "2\n",
      "0\n",
      "2\n"
     ]
    }
   ],
   "source": [
    "# max number of equal elements\n",
    "i = int(input())\n",
    "n_equal = 1\n",
    "prev_i = i\n",
    "max_n = 1\n",
    "i = int(input())\n",
    "while i != 0:\n",
    "    if i == prev_i:\n",
    "        n_equal += 1\n",
    "        if n_equal > max_n:\n",
    "            max_n = n_equal\n",
    "    else:\n",
    "        n_equal = 1\n",
    "    prev_i = i\n",
    "    i = int(input())\n",
    "print(max_n)\n"
   ]
  }
 ],
 "metadata": {
  "kernelspec": {
   "display_name": "Python 3",
   "language": "python",
   "name": "python3"
  },
  "language_info": {
   "codemirror_mode": {
    "name": "ipython",
    "version": 3
   },
   "file_extension": ".py",
   "mimetype": "text/x-python",
   "name": "python",
   "nbconvert_exporter": "python",
   "pygments_lexer": "ipython3",
   "version": "3.6.0"
  }
 },
 "nbformat": 4,
 "nbformat_minor": 2
}
