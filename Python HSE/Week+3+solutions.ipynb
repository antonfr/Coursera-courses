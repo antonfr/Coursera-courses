{
 "cells": [
  {
   "cell_type": "markdown",
   "metadata": {},
   "source": [
    "## Assignment 1"
   ]
  },
  {
   "cell_type": "code",
   "execution_count": 1,
   "metadata": {},
   "outputs": [
    {
     "name": "stdout",
     "output_type": "stream",
     "text": [
      "3\n",
      "4\n",
      "5\n",
      "6.0\n"
     ]
    }
   ],
   "source": [
    "# triangle area\n",
    "a = float(input())\n",
    "b = float(input())\n",
    "c = float(input())\n",
    "\n",
    "p = (a + b + c) / 2\n",
    "s = (p * (p - a) * (p - b) * (p - c))**0.5\n",
    "print(s)\n"
   ]
  },
  {
   "cell_type": "markdown",
   "metadata": {},
   "source": [
    "## Assignment 2"
   ]
  },
  {
   "cell_type": "code",
   "execution_count": 3,
   "metadata": {},
   "outputs": [
    {
     "name": "stdout",
     "output_type": "stream",
     "text": [
      "10\n",
      "1.5497677311665408\n"
     ]
    }
   ],
   "source": [
    "# sum of inverse squares\n",
    "n = int(input())\n",
    "i = 1\n",
    "sum = 0\n",
    "while i <= n:\n",
    "    sum += i**(-2)\n",
    "    i += 1\n",
    "print(sum)\n"
   ]
  },
  {
   "cell_type": "markdown",
   "metadata": {},
   "source": [
    "## Assignment 3"
   ]
  },
  {
   "cell_type": "code",
   "execution_count": 5,
   "metadata": {},
   "outputs": [
    {
     "name": "stdout",
     "output_type": "stream",
     "text": [
      "17.9\n",
      "0.8999999999999986\n"
     ]
    }
   ],
   "source": [
    "# fraction part\n",
    "n = float(input())\n",
    "print(n - int(n))\n"
   ]
  },
  {
   "cell_type": "markdown",
   "metadata": {},
   "source": [
    "## Assignment 4"
   ]
  },
  {
   "cell_type": "code",
   "execution_count": 9,
   "metadata": {},
   "outputs": [
    {
     "name": "stdout",
     "output_type": "stream",
     "text": [
      "3.50\n",
      "3 50\n"
     ]
    }
   ],
   "source": [
    "# price\n",
    "price = float(input())\n",
    "print(int(price), round(100 * (price - int(price))))\n"
   ]
  },
  {
   "cell_type": "markdown",
   "metadata": {},
   "source": [
    "## Assignment 5"
   ]
  },
  {
   "cell_type": "code",
   "execution_count": 10,
   "metadata": {},
   "outputs": [
    {
     "name": "stdout",
     "output_type": "stream",
     "text": [
      "2.5\n",
      "3\n"
     ]
    }
   ],
   "source": [
    "# round number\n",
    "n = float(input())\n",
    "print(int(n + 0.5))\n"
   ]
  },
  {
   "cell_type": "markdown",
   "metadata": {},
   "source": [
    "## Assignment 6"
   ]
  },
  {
   "cell_type": "code",
   "execution_count": 19,
   "metadata": {},
   "outputs": [
    {
     "name": "stdout",
     "output_type": "stream",
     "text": [
      "13\n",
      "179\n",
      "0\n",
      "20226.999999999996\n"
     ]
    }
   ],
   "source": [
    "# percents\n",
    "p = int(input())\n",
    "x = int(input())\n",
    "y = int(input())\n",
    "\n",
    "result = int((100 * x + y) * (1 + p / 100) + 0.001)\n",
    "print(int(result//100), (result - int(result//100) * 100))\n"
   ]
  },
  {
   "cell_type": "markdown",
   "metadata": {},
   "source": [
    "## Assignment 7"
   ]
  },
  {
   "cell_type": "code",
   "execution_count": 1,
   "metadata": {},
   "outputs": [
    {
     "name": "stdout",
     "output_type": "stream",
     "text": [
      "1\n",
      "2\n",
      "1\n",
      "-1.0\n"
     ]
    }
   ],
   "source": [
    "# square equation\n",
    "a = float(input())\n",
    "b = float(input())\n",
    "c = float(input())\n",
    "\n",
    "D = b**2 - 4 * a * c\n",
    "if D > 0:\n",
    "    x1 = (-b - D**0.5) / (2 * a)\n",
    "    x2 = (-b + D**0.5) / (2 * a)\n",
    "    if x1 > x2:\n",
    "        x1, x2 = x2, x1\n",
    "    print(x1, x2)\n",
    "if D == 0:\n",
    "    x = -b / (2 * a)\n",
    "    print(x)\n"
   ]
  },
  {
   "cell_type": "markdown",
   "metadata": {},
   "source": [
    "## Assignment 8"
   ]
  },
  {
   "cell_type": "code",
   "execution_count": 4,
   "metadata": {},
   "outputs": [
    {
     "name": "stdout",
     "output_type": "stream",
     "text": [
      "1\n",
      "2\n",
      "3\n",
      "4\n",
      "-1\n",
      "-1\n",
      "1.0 -1.0\n"
     ]
    }
   ],
   "source": [
    "# system of linear equations\n",
    "a = float(input())\n",
    "b = float(input())\n",
    "c = float(input())\n",
    "d = float(input())\n",
    "e = float(input())\n",
    "f = float(input())\n",
    "\n",
    "det = a * d - b * c\n",
    "det1 = e * d - f * b\n",
    "det2 = a * f - c * e\n",
    "x1 = det1 / det\n",
    "x2 = det2 / det\n",
    "print(x1, x2)\n"
   ]
  },
  {
   "cell_type": "markdown",
   "metadata": {},
   "source": [
    "## Assignment 9"
   ]
  },
  {
   "cell_type": "code",
   "execution_count": 6,
   "metadata": {},
   "outputs": [
    {
     "name": "stdout",
     "output_type": "stream",
     "text": [
      "Abrakadabra\n",
      "r\n",
      "r\n",
      "Abrak\n",
      "Abrakadab\n",
      "Arkdba\n",
      "baaar\n",
      "arbadakarbA\n",
      "abdkrA\n",
      "11\n"
     ]
    }
   ],
   "source": [
    "# slicing a string\n",
    "s = input()\n",
    "print(s[2])\n",
    "print(s[-2])\n",
    "print(s[:5])\n",
    "print(s[:-2])\n",
    "print(s[::2])\n",
    "print(s[1::2])\n",
    "print(s[::-1])\n",
    "print(s[-1::-2])\n",
    "print(len(s))\n"
   ]
  },
  {
   "cell_type": "markdown",
   "metadata": {},
   "source": [
    "## Assignment 10"
   ]
  },
  {
   "cell_type": "code",
   "execution_count": 14,
   "metadata": {},
   "outputs": [
    {
     "name": "stdout",
     "output_type": "stream",
     "text": [
      "fullmoon\n",
      "0 "
     ]
    }
   ],
   "source": [
    "# index of first and last appearance of 'f'\n",
    "s = input()\n",
    "first = s.find('f')\n",
    "last = s.rfind('f')\n",
    "if first != -1:\n",
    "    print(first, end=' ')\n",
    "    if last > first:\n",
    "        print(last)\n"
   ]
  },
  {
   "cell_type": "markdown",
   "metadata": {},
   "source": [
    "## Assignment 11"
   ]
  },
  {
   "cell_type": "code",
   "execution_count": 16,
   "metadata": {},
   "outputs": [
    {
     "name": "stdout",
     "output_type": "stream",
     "text": [
      "qwertyhasdfghzxcvb\n",
      "qwertyzxcvb\n"
     ]
    }
   ],
   "source": [
    "# delete fragment between 2 'h'\n",
    "s = input()\n",
    "first = s.find('h')\n",
    "last = s.rfind('h')\n",
    "print(s[:first] + s[last+1:])\n"
   ]
  },
  {
   "cell_type": "markdown",
   "metadata": {},
   "source": [
    "## Assignment 12"
   ]
  },
  {
   "cell_type": "code",
   "execution_count": 24,
   "metadata": {},
   "outputs": [
    {
     "name": "stdout",
     "output_type": "stream",
     "text": [
      "drink\n",
      "-2\n"
     ]
    }
   ],
   "source": [
    "# index of the second 'f' (-2 if no 'f', -1 if one 'f')\n",
    "s = input()\n",
    "first = s.find('f')\n",
    "if first == -1:\n",
    "    print(-2)\n",
    "else:\n",
    "    second = s.find('f', first + 1)\n",
    "    if second == -1:\n",
    "        print(-1)\n",
    "    else:\n",
    "        print(second)\n",
    "   "
   ]
  },
  {
   "cell_type": "markdown",
   "metadata": {},
   "source": [
    "## Assignment 13"
   ]
  },
  {
   "cell_type": "code",
   "execution_count": 25,
   "metadata": {},
   "outputs": [
    {
     "name": "stdout",
     "output_type": "stream",
     "text": [
      "Hello, world!\n",
      "world! Hello,\n"
     ]
    }
   ],
   "source": [
    "# change two words\n",
    "s = input()\n",
    "space = s.find(' ')\n",
    "print(s[space+1:], s[:space])\n"
   ]
  },
  {
   "cell_type": "markdown",
   "metadata": {},
   "source": [
    "## Assignment 14"
   ]
  },
  {
   "cell_type": "code",
   "execution_count": 27,
   "metadata": {},
   "outputs": [
    {
     "name": "stdout",
     "output_type": "stream",
     "text": [
      "drink\n",
      "1\n"
     ]
    }
   ],
   "source": [
    "#number of words\n",
    "s = input()\n",
    "n_spaces = s.count(' ')\n",
    "print(n_spaces+1)\n"
   ]
  },
  {
   "cell_type": "markdown",
   "metadata": {},
   "source": [
    "## Assignment 15"
   ]
  },
  {
   "cell_type": "code",
   "execution_count": 29,
   "metadata": {},
   "outputs": [
    {
     "name": "stdout",
     "output_type": "stream",
     "text": [
      "Anton\n",
      "Anton\n"
     ]
    }
   ],
   "source": [
    "# replace 1 by one\n",
    "s = input()\n",
    "print(s.replace('1', 'one'))\n"
   ]
  },
  {
   "cell_type": "markdown",
   "metadata": {},
   "source": [
    "## Assignment 16"
   ]
  },
  {
   "cell_type": "code",
   "execution_count": 31,
   "metadata": {},
   "outputs": [
    {
     "name": "stdout",
     "output_type": "stream",
     "text": [
      "Bilbo.Baggins@bagend.hobbiton.shire.me\n",
      "Bilbo.Bagginsbagend.hobbiton.shire.me\n"
     ]
    }
   ],
   "source": [
    "# delete symbol '@'\n",
    "s = input()\n",
    "print(s.replace('@', ''))\n"
   ]
  }
 ],
 "metadata": {
  "kernelspec": {
   "display_name": "Python 3",
   "language": "python",
   "name": "python3"
  },
  "language_info": {
   "codemirror_mode": {
    "name": "ipython",
    "version": 3
   },
   "file_extension": ".py",
   "mimetype": "text/x-python",
   "name": "python",
   "nbconvert_exporter": "python",
   "pygments_lexer": "ipython3",
   "version": "3.6.0"
  }
 },
 "nbformat": 4,
 "nbformat_minor": 2
}
