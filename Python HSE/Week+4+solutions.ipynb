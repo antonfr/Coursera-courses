{
 "cells": [
  {
   "cell_type": "markdown",
   "metadata": {},
   "source": [
    "## Assignment 1"
   ]
  },
  {
   "cell_type": "code",
   "execution_count": 1,
   "metadata": {},
   "outputs": [],
   "source": [
    "# min of 4 numbers\n",
    "def min4(a, b, c, d):\n",
    "    return(min(min(a, b), min(c, d)))\n",
    "\n",
    "a = int(input())\n",
    "b = int(input())\n",
    "c = int(input())\n",
    "d = int(input())\n",
    "print(min4(a, b, c, d))\n"
   ]
  },
  {
   "cell_type": "markdown",
   "metadata": {},
   "source": [
    "## Assignment 2"
   ]
  },
  {
   "cell_type": "code",
   "execution_count": 3,
   "metadata": {},
   "outputs": [
    {
     "name": "stdout",
     "output_type": "stream",
     "text": [
      "2\n",
      "0\n",
      "NO\n"
     ]
    }
   ],
   "source": [
    "# if points belongs to square \n",
    "def IsPointInSquare(x, y):\n",
    "    return((-1 <= x <= 1) and (-1 <= y <= 1))\n",
    "\n",
    "x = float(input())\n",
    "y = float(input())\n",
    "\n",
    "if IsPointInSquare(x, y):\n",
    "    print('YES')\n",
    "else:\n",
    "    print('NO')\n"
   ]
  },
  {
   "cell_type": "markdown",
   "metadata": {},
   "source": [
    "## Assignment 3"
   ]
  },
  {
   "cell_type": "code",
   "execution_count": 5,
   "metadata": {},
   "outputs": [
    {
     "name": "stdout",
     "output_type": "stream",
     "text": [
      "1\n",
      "1\n",
      "0\n",
      "0\n",
      "2\n",
      "YES\n"
     ]
    }
   ],
   "source": [
    "# if point belongs to circle\n",
    "def IsPointInCircle(x, y, xc, yc, r):\n",
    "    return((x - xc)**2 + (y - yc)**2 <= r**2)\n",
    "\n",
    "x = float(input())\n",
    "y = float(input())\n",
    "xc = float(input())\n",
    "yc = float(input())\n",
    "r = float(input())\n",
    "\n",
    "if IsPointInCircle(x, y, xc, yc, r):\n",
    "    print('YES')\n",
    "else:\n",
    "    print('NO')\n"
   ]
  },
  {
   "cell_type": "markdown",
   "metadata": {},
   "source": [
    "## Assignment 4"
   ]
  },
  {
   "cell_type": "code",
   "execution_count": 9,
   "metadata": {},
   "outputs": [
    {
     "name": "stdout",
     "output_type": "stream",
     "text": [
      "4088459\n",
      "2017\n"
     ]
    }
   ],
   "source": [
    "# find min divisor\n",
    "def MinDivisor(n):\n",
    "    i = 2\n",
    "    while i <= n**0.5:\n",
    "        if n % i == 0:\n",
    "            return i\n",
    "        else:\n",
    "            i += 1\n",
    "    return n\n",
    "\n",
    "n = int(input())\n",
    "print(MinDivisor(n))\n"
   ]
  },
  {
   "cell_type": "markdown",
   "metadata": {},
   "source": [
    "## Assignment 5"
   ]
  },
  {
   "cell_type": "code",
   "execution_count": 16,
   "metadata": {},
   "outputs": [
    {
     "name": "stdout",
     "output_type": "stream",
     "text": [
      "2017\n",
      "YES\n"
     ]
    }
   ],
   "source": [
    "# if number is prime\n",
    "def IsPrime(n):\n",
    "    i = 2\n",
    "    while i <= n ** 0.5:\n",
    "        if n % i == 0:\n",
    "            return False\n",
    "        else:\n",
    "            i += 1\n",
    "    return True\n",
    "\n",
    "n = int(input())\n",
    "if IsPrime(n):\n",
    "    print('YES')\n",
    "else:\n",
    "    print('NO')\n"
   ]
  },
  {
   "cell_type": "markdown",
   "metadata": {},
   "source": [
    "## Assignment 6"
   ]
  },
  {
   "cell_type": "code",
   "execution_count": 22,
   "metadata": {},
   "outputs": [
    {
     "name": "stdout",
     "output_type": "stream",
     "text": [
      "2\n",
      "32\n",
      "4294967296.0\n"
     ]
    }
   ],
   "source": [
    "# recursive power\n",
    "def power(a, n):\n",
    "    if n == 0:\n",
    "        return 1\n",
    "    else:\n",
    "        return a * power(a, n - 1)\n",
    "\n",
    "a = float(input())\n",
    "n = int(input())\n",
    "print(power(a, n))\n"
   ]
  },
  {
   "cell_type": "markdown",
   "metadata": {},
   "source": [
    "## Assignment 7"
   ]
  },
  {
   "cell_type": "code",
   "execution_count": 30,
   "metadata": {},
   "outputs": [
    {
     "name": "stdout",
     "output_type": "stream",
     "text": [
      "0\n",
      "5\n",
      "5\n"
     ]
    }
   ],
   "source": [
    "# recursive sum\n",
    "def sum(a, b):\n",
    "    if b == 0:\n",
    "        return(a)\n",
    "    else:\n",
    "        return(1 + sum(a, b - 1))\n",
    "\n",
    "a = int(input())\n",
    "b = int(input())\n",
    "print(sum(a, b))\n"
   ]
  },
  {
   "cell_type": "markdown",
   "metadata": {},
   "source": [
    "## Assignment 8"
   ]
  },
  {
   "cell_type": "code",
   "execution_count": 32,
   "metadata": {},
   "outputs": [
    {
     "name": "stdout",
     "output_type": "stream",
     "text": [
      "3\n",
      "6\n",
      "729.0\n"
     ]
    }
   ],
   "source": [
    "# quick recursive power\n",
    "def power(a, n):\n",
    "    if n == 0:\n",
    "        return 1\n",
    "    else:\n",
    "        if n % 2 == 0:\n",
    "            return(power(a**2, n//2))\n",
    "        else:\n",
    "            return(a * power(a, n - 1))\n",
    "a = float(input())\n",
    "n = int(input())\n",
    "print(power(a, n))\n"
   ]
  },
  {
   "cell_type": "markdown",
   "metadata": {},
   "source": [
    "## Assignment 9"
   ]
  },
  {
   "cell_type": "code",
   "execution_count": 33,
   "metadata": {},
   "outputs": [
    {
     "name": "stdout",
     "output_type": "stream",
     "text": [
      "25\n",
      "40\n",
      "5 8\n"
     ]
    }
   ],
   "source": [
    "# reduce fraction\n",
    "def gcb(n, m):\n",
    "    if m == 0:\n",
    "        return n\n",
    "    else:\n",
    "        return gcb(m, n % m)\n",
    "\n",
    "\n",
    "def ReduceFraction(n, m):\n",
    "    return(n // gcb(n, m), m // gcb(n, m))\n",
    "\n",
    "\n",
    "n = int(input())\n",
    "m = int(input())\n",
    "p, q = ReduceFraction(n, m)\n",
    "print(p, q)\n"
   ]
  },
  {
   "cell_type": "markdown",
   "metadata": {},
   "source": [
    "## Assignment 10"
   ]
  },
  {
   "cell_type": "code",
   "execution_count": 40,
   "metadata": {},
   "outputs": [
    {
     "name": "stdout",
     "output_type": "stream",
     "text": [
      "1\n",
      "7\n",
      "9\n",
      "0\n"
     ]
    },
    {
     "data": {
      "text/plain": [
       "17"
      ]
     },
     "execution_count": 40,
     "metadata": {},
     "output_type": "execute_result"
    }
   ],
   "source": [
    "# sum of serie\n",
    "def sum_series():\n",
    "    n = int(input())\n",
    "    if n == 0:\n",
    "        return 0\n",
    "    else:\n",
    "        return n + sum_series()\n",
    "\n",
    "print(sum_series())\n"
   ]
  },
  {
   "cell_type": "markdown",
   "metadata": {},
   "source": [
    "## Assignment 11"
   ]
  },
  {
   "cell_type": "code",
   "execution_count": 42,
   "metadata": {},
   "outputs": [
    {
     "name": "stdout",
     "output_type": "stream",
     "text": [
      "1\n",
      "2\n",
      "3\n",
      "0\n",
      "0\n",
      "3\n",
      "2\n",
      "1\n"
     ]
    }
   ],
   "source": [
    "# reverse serie\n",
    "def reverse():\n",
    "    n = int(input())\n",
    "    if n == 0:\n",
    "        print(n)\n",
    "    else:\n",
    "        reverse()\n",
    "        print(n)\n",
    "\n",
    "reverse()\n"
   ]
  }
 ],
 "metadata": {
  "kernelspec": {
   "display_name": "Python 3",
   "language": "python",
   "name": "python3"
  },
  "language_info": {
   "codemirror_mode": {
    "name": "ipython",
    "version": 3
   },
   "file_extension": ".py",
   "mimetype": "text/x-python",
   "name": "python",
   "nbconvert_exporter": "python",
   "pygments_lexer": "ipython3",
   "version": "3.6.0"
  }
 },
 "nbformat": 4,
 "nbformat_minor": 2
}
