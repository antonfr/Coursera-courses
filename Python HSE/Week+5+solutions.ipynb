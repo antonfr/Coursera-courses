{
 "cells": [
  {
   "cell_type": "markdown",
   "metadata": {},
   "source": [
    "## Assignment 1"
   ]
  },
  {
   "cell_type": "code",
   "execution_count": 1,
   "metadata": {},
   "outputs": [
    {
     "name": "stdout",
     "output_type": "stream",
     "text": [
      "10\n",
      "20\n",
      "10 11 12 13 14 15 16 17 18 19 20 "
     ]
    }
   ],
   "source": [
    "# print all numbers from a to b\n",
    "a = int(input())\n",
    "b = int(input())\n",
    "for i in range(a, b + 1):\n",
    "    print(i, end=' ')\n"
   ]
  },
  {
   "cell_type": "markdown",
   "metadata": {},
   "source": [
    "## Assignment 2"
   ]
  },
  {
   "cell_type": "code",
   "execution_count": 6,
   "metadata": {},
   "outputs": [
    {
     "name": "stdout",
     "output_type": "stream",
     "text": [
      "10\n",
      "1\n",
      "10 9 8 7 6 5 4 3 2 1 "
     ]
    }
   ],
   "source": [
    "# print all numbers from a to b if a > b else from b to a\n",
    "a = int(input())\n",
    "b = int(input())\n",
    "if a < b:\n",
    "    s = 1\n",
    "else:\n",
    "    s = -1\n",
    "for i in range(a, b + s, s):\n",
    "    print(i, end=' ')\n",
    "    "
   ]
  },
  {
   "cell_type": "markdown",
   "metadata": {},
   "source": [
    "## Assignment 3"
   ]
  },
  {
   "cell_type": "code",
   "execution_count": 23,
   "metadata": {},
   "outputs": [
    {
     "name": "stdout",
     "output_type": "stream",
     "text": [
      "5\n",
      "+___ +___ +___ +___ +___ \n",
      "|1 / |2 / |3 / |4 / |5 / \n",
      "|__\\ |__\\ |__\\ |__\\ |__\\ \n",
      "|    |    |    |    |    \n"
     ]
    }
   ],
   "source": [
    "# print n flags\n",
    "n = int(input())\n",
    "print('+___ '*n)\n",
    "for i in range(1, n + 1):\n",
    "    print('|' + str(i) + ' / ', end='')\n",
    "print()\n",
    "print('|__\\\\ '*n)\n",
    "print('|    '*n)\n"
   ]
  },
  {
   "cell_type": "markdown",
   "metadata": {},
   "source": [
    "## Assignment 4"
   ]
  },
  {
   "cell_type": "code",
   "execution_count": 27,
   "metadata": {},
   "outputs": [
    {
     "name": "stdout",
     "output_type": "stream",
     "text": [
      "9\n",
      "1\n",
      "12\n",
      "123\n",
      "1234\n",
      "12345\n",
      "123456\n",
      "1234567\n",
      "12345678\n",
      "123456789\n"
     ]
    }
   ],
   "source": [
    "# make a latter\n",
    "n = int(input())\n",
    "for i in range(1, n + 1):\n",
    "    for j in range(1, i+1):\n",
    "        print(j, end='')\n",
    "    print()\n"
   ]
  },
  {
   "cell_type": "markdown",
   "metadata": {},
   "source": [
    "## Assignment 5"
   ]
  },
  {
   "cell_type": "code",
   "execution_count": 29,
   "metadata": {},
   "outputs": [
    {
     "name": "stdout",
     "output_type": "stream",
     "text": [
      "1 2 3 4 5\n",
      "1 3 5\n"
     ]
    }
   ],
   "source": [
    "# print elements with even index\n",
    "l = list(map(int, input().split()))\n",
    "print(*l[::2])\n"
   ]
  },
  {
   "cell_type": "markdown",
   "metadata": {},
   "source": [
    "## Assignment 6"
   ]
  },
  {
   "cell_type": "code",
   "execution_count": 30,
   "metadata": {},
   "outputs": [
    {
     "name": "stdout",
     "output_type": "stream",
     "text": [
      "1 2 3 4 5\n",
      "2 4\n"
     ]
    }
   ],
   "source": [
    "# print even elements\n",
    "l = list(map(int, input().split()))\n",
    "print(*[x for x in l if x % 2 == 0])\n"
   ]
  },
  {
   "cell_type": "markdown",
   "metadata": {},
   "source": [
    "## Assignment 7"
   ]
  },
  {
   "cell_type": "code",
   "execution_count": 33,
   "metadata": {},
   "outputs": [
    {
     "name": "stdout",
     "output_type": "stream",
     "text": [
      "-1 2 3 4\n",
      "3\n"
     ]
    }
   ],
   "source": [
    "# print number of positive elements \n",
    "l = list(map(int, input().split()))\n",
    "n_pos = 0\n",
    "for number in l:\n",
    "    if number > 0:\n",
    "        n_pos += 1\n",
    "print(n_pos)\n"
   ]
  },
  {
   "cell_type": "markdown",
   "metadata": {},
   "source": [
    "## Assignment 8"
   ]
  },
  {
   "cell_type": "code",
   "execution_count": 1,
   "metadata": {},
   "outputs": [
    {
     "name": "stdout",
     "output_type": "stream",
     "text": [
      "4 3 2 1 2 3\n",
      "4 0\n"
     ]
    }
   ],
   "source": [
    "# find last max element and its index\n",
    "l = list(map(int, input().split()))\n",
    "max_value = l[0]\n",
    "max_index = 0\n",
    "for i in range(1, len(l)):\n",
    "    if l[i] >= max_value:\n",
    "        max_value, max_index = l[i], i\n",
    "print(max_value, max_index)\n"
   ]
  },
  {
   "cell_type": "markdown",
   "metadata": {},
   "source": [
    "## Assignment 9"
   ]
  },
  {
   "cell_type": "code",
   "execution_count": 40,
   "metadata": {},
   "outputs": [
    {
     "name": "stdout",
     "output_type": "stream",
     "text": [
      "1 3 2 4 5\n",
      "3 4 5\n"
     ]
    }
   ],
   "source": [
    "# find all elements greater than previous\n",
    "l = list(map(int, input().split()))\n",
    "print(*[l[i] for i in range(1, len(l)) if l[i] > l[i-1]])\n"
   ]
  },
  {
   "cell_type": "markdown",
   "metadata": {},
   "source": [
    "## Assignment 10"
   ]
  },
  {
   "cell_type": "code",
   "execution_count": 41,
   "metadata": {},
   "outputs": [
    {
     "name": "stdout",
     "output_type": "stream",
     "text": [
      "1 3 -4\n",
      "1\n"
     ]
    }
   ],
   "source": [
    "# find min positive element \n",
    "l = list(map(int, input().split()))\n",
    "print(min([x for x in l if x > 0]))\n"
   ]
  },
  {
   "cell_type": "markdown",
   "metadata": {},
   "source": [
    "## Assignment 11"
   ]
  },
  {
   "cell_type": "code",
   "execution_count": 43,
   "metadata": {},
   "outputs": [
    {
     "name": "stdout",
     "output_type": "stream",
     "text": [
      "5\n",
      "1 3 7 13 19\n",
      "14\n",
      "13\n"
     ]
    }
   ],
   "source": [
    "# for given number find the closest element in a list\n",
    "n = int(input())\n",
    "l = list(map(int, input().split()))\n",
    "x = int(input())\n",
    "\n",
    "min_diff = 1e7\n",
    "for num in l:\n",
    "    if abs(x - num) < min_diff:\n",
    "        min_diff = abs(x - num)\n",
    "        closest = num\n",
    "print(closest)\n"
   ]
  },
  {
   "cell_type": "markdown",
   "metadata": {},
   "source": [
    "## Assignment 12"
   ]
  },
  {
   "cell_type": "code",
   "execution_count": 50,
   "metadata": {},
   "outputs": [
    {
     "name": "stdout",
     "output_type": "stream",
     "text": [
      "1 2 3 4 5\n",
      "2 1 4 3 5\n"
     ]
    }
   ],
   "source": [
    "# change elements i and i+1\n",
    "l = list(map(int, input().split()))\n",
    "for i in range(1, len(l), 2):\n",
    "    l[i-1], l[i] = l[i], l[i-1]\n",
    "print(*l)\n"
   ]
  },
  {
   "cell_type": "markdown",
   "metadata": {},
   "source": [
    "## Assignment 13"
   ]
  },
  {
   "cell_type": "code",
   "execution_count": 66,
   "metadata": {},
   "outputs": [
    {
     "name": "stdout",
     "output_type": "stream",
     "text": [
      "1 2 3 4 5\n",
      "5 2 3 4 1\n"
     ]
    }
   ],
   "source": [
    "# change min and max values\n",
    "l = list(map(int, input().split()))\n",
    "min_idx = 0\n",
    "max_idx = 0\n",
    "for i in range(len(l)):\n",
    "    if l[i] < l[min_idx]:\n",
    "        min_idx = i\n",
    "    if l[i] > l[max_idx]:\n",
    "        max_idx = i\n",
    "l[min_idx], l[max_idx] = l[max_idx], l[min_idx]\n",
    "print(*l)\n"
   ]
  }
 ],
 "metadata": {
  "kernelspec": {
   "display_name": "Python 3",
   "language": "python",
   "name": "python3"
  },
  "language_info": {
   "codemirror_mode": {
    "name": "ipython",
    "version": 3
   },
   "file_extension": ".py",
   "mimetype": "text/x-python",
   "name": "python",
   "nbconvert_exporter": "python",
   "pygments_lexer": "ipython3",
   "version": "3.6.0"
  }
 },
 "nbformat": 4,
 "nbformat_minor": 2
}
