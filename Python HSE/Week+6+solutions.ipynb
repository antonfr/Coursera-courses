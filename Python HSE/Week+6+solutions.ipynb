{
 "cells": [
  {
   "cell_type": "markdown",
   "metadata": {},
   "source": [
    "## Assignment 01"
   ]
  },
  {
   "cell_type": "code",
   "execution_count": 10,
   "metadata": {},
   "outputs": [
    {
     "name": "stdout",
     "output_type": "stream",
     "text": [
      "1\n",
      "1\n",
      "1 1\n"
     ]
    }
   ],
   "source": [
    "# merge two non decreasing lists without sort / sorted with efficiency O(len(A) + len(B))\n",
    "def merge(A, B):\n",
    "    l = []\n",
    "    i = 0\n",
    "    j = 0\n",
    "    for _ in range(len(A) + len(B)):\n",
    "        if A[i] <= B[j]:\n",
    "            l.append(A[i])\n",
    "            if i == len(A) - 1:\n",
    "                l.extend(B[j:])\n",
    "                break\n",
    "            else:\n",
    "                i += 1\n",
    "        else:\n",
    "            l.append(B[j])\n",
    "            if j == len(B) - 1:\n",
    "                l.extend(A[i:])\n",
    "                break\n",
    "            else:\n",
    "                j += 1\n",
    "    return l\n",
    "\n",
    "A = list(map(int, input().split()))\n",
    "B = list(map(int, input().split()))\n",
    "print(*merge(A, B))    \n"
   ]
  },
  {
   "cell_type": "markdown",
   "metadata": {},
   "source": [
    "## Assignment 2"
   ]
  },
  {
   "cell_type": "code",
   "execution_count": 14,
   "metadata": {},
   "outputs": [
    {
     "name": "stdout",
     "output_type": "stream",
     "text": [
      "5\n",
      "3864 234 3874 2328 7623\n",
      "234 2328 3864 3874 7623\n"
     ]
    }
   ],
   "source": [
    "# sort list using sort\n",
    "n = int(input())\n",
    "l = list(map(int, input().split()))\n",
    "l.sort()\n",
    "print(*l)\n"
   ]
  },
  {
   "cell_type": "markdown",
   "metadata": {},
   "source": [
    "## Assignment 3"
   ]
  },
  {
   "cell_type": "code",
   "execution_count": 19,
   "metadata": {},
   "outputs": [
    {
     "name": "stdout",
     "output_type": "stream",
     "text": [
      "100 3\n",
      "50\n",
      "30\n",
      "50\n",
      "2\n"
     ]
    }
   ],
   "source": [
    "# find max number that sum of max_number elements of the list are less or equal a certain number\n",
    "disk_volume, n = (map(int, input().split()))\n",
    "files_volume = []\n",
    "total_volume = 0\n",
    "for i in range(n):\n",
    "    files_volume.append(int(input()))\n",
    "    total_volume += files_volume[i]\n",
    "files_volume.sort(reverse=True)\n",
    "\n",
    "j = 0\n",
    "max_num = len(files_volume)\n",
    "total_volume = sum(files_volume)\n",
    "while total_volume >= disk_volume:\n",
    "    total_volume -= files_volume[j]\n",
    "    max_num -= 1\n",
    "    j += 1\n",
    "print(max_num)\n"
   ]
  },
  {
   "cell_type": "markdown",
   "metadata": {},
   "source": [
    "## Assignment 4"
   ]
  },
  {
   "cell_type": "code",
   "execution_count": 13,
   "metadata": {},
   "outputs": [
    {
     "name": "stdout",
     "output_type": "stream",
     "text": [
      "10\n",
      "79 64 13 8 38 29 58 20 56 17\n",
      "10\n",
      "53 19 20 85 82 39 58 46 51 69\n",
      "5 10 2 2 6 3 7 3 7 2\n"
     ]
    }
   ],
   "source": [
    "# create a list C from two lists A and B, than i-th element of C is the number of the closest element of B\n",
    "# for i-th element of A\n",
    "n = int(input())\n",
    "towns = list(map(int, input().split()))\n",
    "m = int(input())\n",
    "vaults = list(map(int, input().split()))\n",
    "\n",
    "tt = sorted([(towns[i], i) for i in range(len(towns))])\n",
    "vt = sorted([(vaults[i], i) for i in range(len(vaults))])\n",
    "nearest = []\n",
    "j = 0\n",
    "for i in range(len(towns)):\n",
    "    min_dist = abs(tt[i][0] - vt[j][0])\n",
    "    min_j = j\n",
    "    while j < len(vaults):\n",
    "        if abs(tt[i][0] - vt[j][0]) <= min_dist:\n",
    "            min_j = j\n",
    "            min_dist = abs(tt[i][0] - vt[j][0])\n",
    "            j += 1\n",
    "        else:\n",
    "            break\n",
    "    nearest.append((tt[i][1], vt[min_j][1] + 1))\n",
    "    j = min_j\n",
    "result = [res[1] for res in sorted(nearest)]\n",
    "print(*result)"
   ]
  },
  {
   "cell_type": "markdown",
   "metadata": {},
   "source": [
    "## Assignment 5"
   ]
  },
  {
   "cell_type": "code",
   "execution_count": 5,
   "metadata": {},
   "outputs": [],
   "source": [
    "# sort list in alphabetical order\n",
    "infile = open('input.txt', 'r', encoding='utf8')\n",
    "students = []\n",
    "for line in infile:\n",
    "    s = line.rstrip().split()\n",
    "    students.append([s[0], s[1], int(s[-1])])\n",
    "infile.close()\n",
    "students.sort()\n",
    "outfile = open('output.txt', 'w', encoding='utf8')\n",
    "for s in students:\n",
    "    print(*s, file=outfile)\n",
    "outfile.close()\n"
   ]
  },
  {
   "cell_type": "markdown",
   "metadata": {},
   "source": [
    "## Assignment 6"
   ]
  },
  {
   "cell_type": "code",
   "execution_count": 1,
   "metadata": {},
   "outputs": [
    {
     "name": "stdout",
     "output_type": "stream",
     "text": [
      "2 2 2 3 4 54 6 5 55 4 4 3 3 33 \n",
      "2 2 2 3 3 3 4 4 4 5 6 33 54 55\n"
     ]
    }
   ],
   "source": [
    "# sort list by counting frequency of its every element \n",
    "def CountSort(A):\n",
    "    count_list = [0] * 101\n",
    "    res = []\n",
    "    for a in A:\n",
    "        count_list[a] += 1\n",
    "    for i in range(len(count_list)):\n",
    "        res.extend([i] * count_list[i])\n",
    "    return res\n",
    "numbers = list(map(int, input().split()))\n",
    "print(*CountSort(numbers))\n"
   ]
  },
  {
   "cell_type": "markdown",
   "metadata": {},
   "source": [
    "## Assignment 7"
   ]
  },
  {
   "cell_type": "code",
   "execution_count": 7,
   "metadata": {},
   "outputs": [
    {
     "name": "stdout",
     "output_type": "stream",
     "text": [
      "3\n",
      "Ivanov 15\n",
      "Petrov 10\n",
      "Sidorov 20\n",
      "Sidorov\n",
      "Ivanov\n",
      "Petrov\n"
     ]
    }
   ],
   "source": [
    "# sort list by numerical variable\n",
    "n = int(input())\n",
    "results = []\n",
    "for i in range(n):\n",
    "    entry = input().split()\n",
    "    results.append((int(entry[1]), entry[0]))\n",
    "results.sort(reverse=True)\n",
    "for result in results:\n",
    "    print(result[1])\n"
   ]
  },
  {
   "cell_type": "markdown",
   "metadata": {},
   "source": [
    "## Assignment 8"
   ]
  },
  {
   "cell_type": "code",
   "execution_count": 1,
   "metadata": {},
   "outputs": [],
   "source": [
    "# find max number that first max number elements of list respect certain conditions\n",
    "file = open('input.txt', 'r', encoding='utf8')\n",
    "infile = file.readlines()\n",
    "file.close()\n",
    "k = int(infile[0])\n",
    "del infile[0]\n",
    "notes = []\n",
    "count_list = [0]*301\n",
    "for line in infile:\n",
    "    s = line.rstrip().split()\n",
    "    if ((int(s[-3]) >= 40) & (int(s[-2]) >= 40) & (int(s[-1]) >= 40)):\n",
    "        count_list[int(s[-3]) + int(s[-2]) + int(s[-1])] += 1\n",
    "for i in range(len(count_list)-1, 0, -1):\n",
    "    notes.extend([i] * count_list[i])\n",
    "n_maxnote = count_list[notes[0]]\n",
    "if notes == []:\n",
    "    result = ''\n",
    "elif len(notes) <= k:\n",
    "    result = 0\n",
    "elif n_maxnote > k:\n",
    "    result = 1\n",
    "elif notes[k-1] > notes[k]:\n",
    "    result = notes[k-1]\n",
    "else:\n",
    "    j = 1\n",
    "    while notes[k-j] == notes[k]:\n",
    "        j += 1\n",
    "    result = notes[k-j]\n",
    "outfile = open('output.txt', 'w', encoding='utf8')\n",
    "print(result, file=outfile)\n",
    "outfile.close()\n"
   ]
  }
 ],
 "metadata": {
  "kernelspec": {
   "display_name": "Python 3",
   "language": "python",
   "name": "python3"
  },
  "language_info": {
   "codemirror_mode": {
    "name": "ipython",
    "version": 3
   },
   "file_extension": ".py",
   "mimetype": "text/x-python",
   "name": "python",
   "nbconvert_exporter": "python",
   "pygments_lexer": "ipython3",
   "version": "3.6.0"
  }
 },
 "nbformat": 4,
 "nbformat_minor": 2
}
