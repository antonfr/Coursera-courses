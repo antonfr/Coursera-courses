{
 "cells": [
  {
   "cell_type": "markdown",
   "metadata": {},
   "source": [
    "## Assignment 1"
   ]
  },
  {
   "cell_type": "code",
   "execution_count": 3,
   "metadata": {},
   "outputs": [
    {
     "name": "stdout",
     "output_type": "stream",
     "text": [
      "1 2 3 4 5 1 2 1 2 7 3\n",
      "6\n"
     ]
    }
   ],
   "source": [
    "# n different numbers\n",
    "n = set(map(int, input().split()))\n",
    "print(len(n))\n"
   ]
  },
  {
   "cell_type": "markdown",
   "metadata": {},
   "source": [
    "## Assignment 2"
   ]
  },
  {
   "cell_type": "code",
   "execution_count": 4,
   "metadata": {},
   "outputs": [],
   "source": [
    "# intersection of two sets\n",
    "infile = open('input.txt', 'r', encoding='utf8')\n",
    "a = set(map(int, infile.readline().split()))\n",
    "b = set(map(int, infile.readline().split()))\n",
    "infile.close()\n",
    "outfile = open('output.txt', \"w\", encoding='utf8')\n",
    "print(*sorted(list(a & b)), file=outfile)\n",
    "outfile.close()\n"
   ]
  },
  {
   "cell_type": "markdown",
   "metadata": {},
   "source": [
    "## Assignment 3"
   ]
  },
  {
   "cell_type": "code",
   "execution_count": 5,
   "metadata": {},
   "outputs": [
    {
     "name": "stdout",
     "output_type": "stream",
     "text": [
      "1 2 3 2 3 4\n",
      "NO\n",
      "NO\n",
      "NO\n",
      "YES\n",
      "YES\n",
      "NO\n"
     ]
    }
   ],
   "source": [
    "# if n is already in list\n",
    "numbers = list(map(int, input().split()))\n",
    "n_set = set()\n",
    "for n in numbers:\n",
    "    if n in n_set:\n",
    "        print('YES')\n",
    "    else:\n",
    "        print('NO')\n",
    "        n_set.add(n)\n"
   ]
  },
  {
   "cell_type": "markdown",
   "metadata": {},
   "source": [
    "## Assignment 4"
   ]
  },
  {
   "cell_type": "code",
   "execution_count": null,
   "metadata": {},
   "outputs": [],
   "source": [
    "# number of words\n",
    "import sys\n",
    "words = set(sys.stdin.read().split())\n",
    "print(len(words))\n"
   ]
  },
  {
   "cell_type": "markdown",
   "metadata": {},
   "source": [
    "## Assignment 5"
   ]
  },
  {
   "cell_type": "code",
   "execution_count": 12,
   "metadata": {},
   "outputs": [
    {
     "name": "stdout",
     "output_type": "stream",
     "text": [
      "10\n",
      "1 2 3 4 5\n",
      "YES\n",
      "2 4 6 8 10\n",
      "NO\n",
      "HELP\n",
      "1 3 5\n"
     ]
    }
   ],
   "source": [
    "# guess a number\n",
    "n = int(input())\n",
    "n_set = set(range(1, n+1))\n",
    "while True:\n",
    "    first_step = input()\n",
    "    if first_step == 'HELP':\n",
    "        break\n",
    "    else:\n",
    "        k_set = set(map(int, first_step.split()))\n",
    "    next_step = input()\n",
    "    if next_step == 'YES':\n",
    "        n_set &= k_set\n",
    "    if next_step == 'NO':\n",
    "        n_set -= k_set\n",
    "print(*sorted(n_set))\n"
   ]
  },
  {
   "cell_type": "markdown",
   "metadata": {},
   "source": [
    "## Assignment 6"
   ]
  },
  {
   "cell_type": "code",
   "execution_count": 20,
   "metadata": {},
   "outputs": [
    {
     "name": "stdout",
     "output_type": "stream",
     "text": [
      "3\n",
      "3\n",
      "English\n",
      "Russian\n",
      "Japanese\n",
      "2\n",
      "English\n",
      "Russian\n",
      "1\n",
      "English\n",
      "1\n",
      "English\n",
      "3\n",
      "Russian\n",
      "Japanese\n",
      "English\n"
     ]
    }
   ],
   "source": [
    "# union and intersection\n",
    "n = int(input())\n",
    "pupils_list = []\n",
    "for i in range(n):\n",
    "    m = int(input())\n",
    "    lang_set = set()\n",
    "    for i in range(m):\n",
    "        language = input()\n",
    "        lang_set.add(language)\n",
    "    pupils_list.append(lang_set)\n",
    "all_know = pupils_list[0]\n",
    "one_knows = set()\n",
    "for pupil in pupils_list:\n",
    "    all_know &= pupil\n",
    "    one_knows |= pupil\n",
    "print(len(all_know))\n",
    "print('\\n'.join(all_know))\n",
    "print(len(one_knows))\n",
    "print('\\n'.join(one_knows))\n"
   ]
  },
  {
   "cell_type": "markdown",
   "metadata": {},
   "source": [
    "## Assignment 7"
   ]
  },
  {
   "cell_type": "code",
   "execution_count": 30,
   "metadata": {},
   "outputs": [
    {
     "name": "stdout",
     "output_type": "stream",
     "text": [
      "0 0 1 0 0 "
     ]
    }
   ],
   "source": [
    "# word counter\n",
    "infile = open('input.txt', 'r', encoding='utf8')\n",
    "count_dict = {}\n",
    "for line in infile:\n",
    "    words = line.strip().split()\n",
    "    for word in words:\n",
    "        count_dict[word] = count_dict.get(word, -1) + 1\n",
    "        print(count_dict[word], end=' ')\n",
    "infile.close()\n"
   ]
  },
  {
   "cell_type": "markdown",
   "metadata": {},
   "source": [
    "## Assignment 8"
   ]
  },
  {
   "cell_type": "code",
   "execution_count": 35,
   "metadata": {},
   "outputs": [
    {
     "name": "stdout",
     "output_type": "stream",
     "text": [
      "3\n",
      "Hello Hi\n",
      "Bye Goodbye\n",
      "Array List\n",
      "Goodbye\n",
      "Bye\n"
     ]
    }
   ],
   "source": [
    "# synonims\n",
    "n = int(input())\n",
    "syn_dict = {}\n",
    "syn_dict2 = {}\n",
    "for i in range(n):\n",
    "    words = input().strip().split()\n",
    "    syn_dict[words[1]] = words[0]\n",
    "    syn_dict2[words[0]] = words[1]\n",
    "word = input()\n",
    "print(syn_dict.get(word, syn_dict2.get(word, 0)))\n"
   ]
  },
  {
   "cell_type": "markdown",
   "metadata": {},
   "source": [
    "## Assignment 9"
   ]
  },
  {
   "cell_type": "code",
   "execution_count": 37,
   "metadata": {},
   "outputs": [
    {
     "name": "stdout",
     "output_type": "stream",
     "text": [
      "ding\n"
     ]
    }
   ],
   "source": [
    "infile = open('input.txt', 'r', encoding='utf8')\n",
    "count_dict = {}\n",
    "for line in infile:\n",
    "    words = line.strip().split()\n",
    "    for word in words:\n",
    "        count_dict[word] = count_dict.get(word, 0) + 1\n",
    "infile.close()\n",
    "freq_list = []\n",
    "for key, value in count_dict.items():\n",
    "    freq_list.append((value, key))\n",
    "freq_list.sort(key=lambda x: (-x[0], x[1]))\n",
    "print(freq_list[0][1])\n"
   ]
  },
  {
   "cell_type": "markdown",
   "metadata": {},
   "source": [
    "## Assignment 10"
   ]
  },
  {
   "cell_type": "code",
   "execution_count": 39,
   "metadata": {},
   "outputs": [
    {
     "name": "stdout",
     "output_type": "stream",
     "text": [
      "damme\n",
      "is\n",
      "name\n",
      "van\n",
      "bond\n",
      "claude\n",
      "hi\n",
      "my\n",
      "james\n",
      "jean\n",
      "what\n",
      "your\n"
     ]
    }
   ],
   "source": [
    "# frequency counter\n",
    "infile = open('input.txt', 'r', encoding='utf8')\n",
    "count_dict = {}\n",
    "for line in infile:\n",
    "    words = line.strip().split()\n",
    "    for word in words:\n",
    "        count_dict[word] = count_dict.get(word, 0) + 1\n",
    "infile.close()\n",
    "freq_list = []\n",
    "for key, value in count_dict.items():\n",
    "    freq_list.append((value, key))\n",
    "freq_list.sort(key=lambda x: (-x[0], x[1]))\n",
    "for freq in freq_list:\n",
    "    print(freq[1])\n"
   ]
  },
  {
   "cell_type": "markdown",
   "metadata": {},
   "source": [
    "## Assignment 11"
   ]
  },
  {
   "cell_type": "code",
   "execution_count": 46,
   "metadata": {},
   "outputs": [],
   "source": [
    "# string with frequency over 0.5, if no, two most frequent\n",
    "infile = open('input.txt', 'r', encoding='utf8')\n",
    "lines = infile.readlines()\n",
    "infile.close()\n",
    "count_dict = {}\n",
    "n = len(lines)\n",
    "for line in lines:\n",
    "    name = line.strip()\n",
    "    count_dict[name] = count_dict.get(name, 0) + 1/n\n",
    "freq_list = []\n",
    "for key, value in count_dict.items():\n",
    "    freq_list.append((value, key))\n",
    "freq_list.sort(reverse=True)\n",
    "outfile = open('output.txt', 'w', encoding='utf8')\n",
    "print(freq_list[0][1], file=outfile)\n",
    "if freq_list[0][0] <= 0.5:\n",
    "    print(freq_list[1][1], file=outfile)\n",
    "outfile.close()\n"
   ]
  }
 ],
 "metadata": {
  "kernelspec": {
   "display_name": "Python 3",
   "language": "python",
   "name": "python3"
  },
  "language_info": {
   "codemirror_mode": {
    "name": "ipython",
    "version": 3
   },
   "file_extension": ".py",
   "mimetype": "text/x-python",
   "name": "python",
   "nbconvert_exporter": "python",
   "pygments_lexer": "ipython3",
   "version": "3.6.0"
  }
 },
 "nbformat": 4,
 "nbformat_minor": 2
}
