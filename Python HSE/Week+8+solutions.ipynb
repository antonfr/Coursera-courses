{
 "cells": [
  {
   "cell_type": "markdown",
   "metadata": {},
   "source": [
    "## Assignment 1"
   ]
  },
  {
   "cell_type": "code",
   "execution_count": 1,
   "metadata": {},
   "outputs": [
    {
     "name": "stdout",
     "output_type": "stream",
     "text": [
      "1 2 3 2 1\n",
      "3\n"
     ]
    }
   ],
   "source": [
    "# length of sequence\n",
    "print(\n",
    "    len(\n",
    "        set(\n",
    "            map(\n",
    "                int, \n",
    "                input().split()\n",
    "            )\n",
    "        )\n",
    "    )\n",
    ")\n"
   ]
  },
  {
   "cell_type": "markdown",
   "metadata": {},
   "source": [
    "## Assignment 2"
   ]
  },
  {
   "cell_type": "code",
   "execution_count": null,
   "metadata": {},
   "outputs": [],
   "source": [
    "# number of words\n",
    "import sys\n",
    "print(\n",
    "    len(\n",
    "        set(\n",
    "            sys.stdin.read().strip().split()\n",
    "        )\n",
    "    )\n",
    ")"
   ]
  },
  {
   "cell_type": "markdown",
   "metadata": {},
   "source": [
    "## Assignment 3"
   ]
  },
  {
   "cell_type": "code",
   "execution_count": 4,
   "metadata": {},
   "outputs": [
    {
     "name": "stdout",
     "output_type": "stream",
     "text": [
      "5 4 3 2 1 0 -1 -2 -3 -4\n",
      "-3\n"
     ]
    }
   ],
   "source": [
    "# min odd number\n",
    "print(\n",
    "    min(\n",
    "        filter(\n",
    "            lambda x: x % 2 != 0, \n",
    "            map(\n",
    "                int, \n",
    "                input().split()\n",
    "            )\n",
    "        )\n",
    "    )\n",
    ")\n"
   ]
  },
  {
   "cell_type": "markdown",
   "metadata": {},
   "source": [
    "## Assignment 4"
   ]
  },
  {
   "cell_type": "code",
   "execution_count": 7,
   "metadata": {},
   "outputs": [
    {
     "name": "stdout",
     "output_type": "stream",
     "text": [
      "3\n",
      "14\n",
      "19\n",
      "17\n",
      "False\n"
     ]
    }
   ],
   "source": [
    "# if there are zeros\n",
    "print(\n",
    "    any(\n",
    "        map(\n",
    "            lambda x: x == 0, \n",
    "            map(\n",
    "                lambda x: int(input()), range(int(input()))\n",
    "            )\n",
    "        )\n",
    "    )\n",
    ")\n"
   ]
  },
  {
   "cell_type": "markdown",
   "metadata": {},
   "source": [
    "## Assignment 5"
   ]
  },
  {
   "cell_type": "code",
   "execution_count": 10,
   "metadata": {},
   "outputs": [
    {
     "name": "stdout",
     "output_type": "stream",
     "text": [
      "2 1 1 2 2\n",
      "32768\n"
     ]
    }
   ],
   "source": [
    "# multiply ol elements of list in 5-th power\n",
    "from functools import reduce\n",
    "print(\n",
    "    reduce(\n",
    "        lambda x, y: x * y, \n",
    "        map(\n",
    "            lambda x: x**5, \n",
    "            map(\n",
    "                int, \n",
    "                input().split()\n",
    "            )\n",
    "        )\n",
    "    )\n",
    ")\n"
   ]
  },
  {
   "cell_type": "markdown",
   "metadata": {},
   "source": [
    "## Assignment 6"
   ]
  },
  {
   "cell_type": "code",
   "execution_count": 14,
   "metadata": {},
   "outputs": [
    {
     "name": "stdout",
     "output_type": "stream",
     "text": [
      "0 0 1 1\n",
      "0 1 0 1\n",
      "0 1 1 0\n"
     ]
    }
   ],
   "source": [
    "# XOR\n",
    "print(\n",
    "    *map(\n",
    "        lambda x: (x[0] + x[1]) % 2, \n",
    "        zip(\n",
    "            map(\n",
    "                int, \n",
    "                input().split()\n",
    "            ), \n",
    "            map(\n",
    "                int, \n",
    "                input().split()\n",
    "            )\n",
    "        )\n",
    "    )\n",
    ")\n"
   ]
  }
 ],
 "metadata": {
  "kernelspec": {
   "display_name": "Python 3",
   "language": "python",
   "name": "python3"
  },
  "language_info": {
   "codemirror_mode": {
    "name": "ipython",
    "version": 3
   },
   "file_extension": ".py",
   "mimetype": "text/x-python",
   "name": "python",
   "nbconvert_exporter": "python",
   "pygments_lexer": "ipython3",
   "version": "3.6.0"
  }
 },
 "nbformat": 4,
 "nbformat_minor": 2
}
