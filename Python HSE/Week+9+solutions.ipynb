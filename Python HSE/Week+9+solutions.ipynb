{
 "cells": [
  {
   "cell_type": "markdown",
   "metadata": {},
   "source": [
    "## Assignment 1"
   ]
  },
  {
   "cell_type": "code",
   "execution_count": null,
   "metadata": {},
   "outputs": [],
   "source": [
    "# Create matrix class\n",
    "from sys import stdin\n",
    "from copy import deepcopy\n",
    "\n",
    "\n",
    "class Matrix:\n",
    "    def __init__(self, m):\n",
    "        self.m = deepcopy(m)\n",
    "\n",
    "    def __str__(self):\n",
    "        rows = []\n",
    "        for row in self.m:\n",
    "            rows.append('\\t'.join(map(str, row)))\n",
    "        return('\\n'.join(rows))\n",
    "\n",
    "    def size(self):\n",
    "        return(len(self.m), len(self.m[0]))\n",
    "exec(stdin.read())\n"
   ]
  },
  {
   "cell_type": "markdown",
   "metadata": {},
   "source": [
    "## Assignment 2"
   ]
  },
  {
   "cell_type": "code",
   "execution_count": null,
   "metadata": {},
   "outputs": [],
   "source": [
    "# addition and scalar multiplication\n",
    "from sys import stdin\n",
    "from copy import deepcopy\n",
    "\n",
    "\n",
    "class Matrix:\n",
    "    def __init__(self, m):\n",
    "        self.m = deepcopy(m)\n",
    "\n",
    "    def __str__(self):\n",
    "        rows = []\n",
    "        for row in self.m:\n",
    "            rows.append('\\t'.join(map(str, row)))\n",
    "        return('\\n'.join(rows))\n",
    "\n",
    "    def size(self):\n",
    "        return(len(self.m), len(self.m[0]))\n",
    "\n",
    "    def __add__(self, other):\n",
    "        m_copy = Matrix(deepcopy(self.m))\n",
    "        for i in range(self.size()[0]):\n",
    "            for j in range(self.size()[1]):\n",
    "                m_copy.m[i][j] += other.m[i][j]\n",
    "        return(m_copy)\n",
    "\n",
    "    def __mul__(self, C):\n",
    "        m_copy = Matrix(deepcopy(self.m))\n",
    "        for i in range(self.size()[0]):\n",
    "            for j in range(self.size()[1]):\n",
    "                m_copy.m[i][j] *= C\n",
    "        return(m_copy)\n",
    "\n",
    "    __rmul__ = __mul__\n",
    "exec(stdin.read())\n"
   ]
  },
  {
   "cell_type": "markdown",
   "metadata": {},
   "source": [
    "## Assignment 3"
   ]
  },
  {
   "cell_type": "code",
   "execution_count": null,
   "metadata": {},
   "outputs": [],
   "source": [
    "# errors and transposition\n",
    "from sys import stdin\n",
    "from copy import deepcopy\n",
    "\n",
    "\n",
    "class MatrixError(BaseException):\n",
    "    def __init__(self, matrix1, matrix2):\n",
    "        self.matrix1 = matrix1\n",
    "        self.matrix2 = matrix2\n",
    "\n",
    "\n",
    "class Matrix:\n",
    "    def __init__(self, m):\n",
    "        self.m = deepcopy(m)\n",
    "\n",
    "    def __str__(self):\n",
    "        rows = []\n",
    "        for row in self.m:\n",
    "            rows.append('\\t'.join(map(str, row)))\n",
    "        return('\\n'.join(rows))\n",
    "\n",
    "    def size(self):\n",
    "        return(len(self.m), len(self.m[0]))\n",
    "\n",
    "    def __add__(self, other):\n",
    "        m_copy = Matrix(deepcopy(self.m))\n",
    "        if self.size() == other.size():\n",
    "            for i in range(self.size()[0]):\n",
    "                for j in range(self.size()[1]):\n",
    "                    m_copy.m[i][j] += other.m[i][j]\n",
    "        else:\n",
    "            raise MatrixError(self, other)\n",
    "        return(m_copy)\n",
    "\n",
    "    def __mul__(self, C):\n",
    "        m_copy = Matrix(deepcopy(self.m))\n",
    "        for i in range(self.size()[0]):\n",
    "            for j in range(self.size()[1]):\n",
    "                m_copy.m[i][j] *= C\n",
    "        return(m_copy)\n",
    "\n",
    "    __rmul__ = __mul__\n",
    "\n",
    "    def transpose(self):\n",
    "        tmatrix = list(zip(*self.m))\n",
    "        self.m = tmatrix\n",
    "        return Matrix(tmatrix)\n",
    "\n",
    "    def transposed(self):\n",
    "        tmatrix = list(zip(*self.m))\n",
    "        return Matrix(tmatrix)\n",
    "exec(stdin.read())\n"
   ]
  }
 ],
 "metadata": {
  "kernelspec": {
   "display_name": "Python 3",
   "language": "python",
   "name": "python3"
  },
  "language_info": {
   "codemirror_mode": {
    "name": "ipython",
    "version": 3
   },
   "file_extension": ".py",
   "mimetype": "text/x-python",
   "name": "python",
   "nbconvert_exporter": "python",
   "pygments_lexer": "ipython3",
   "version": "3.6.0"
  }
 },
 "nbformat": 4,
 "nbformat_minor": 2
}
